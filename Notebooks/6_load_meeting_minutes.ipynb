{
 "cells": [
  {
   "cell_type": "code",
   "execution_count": 1,
   "metadata": {},
   "outputs": [],
   "source": [
    "from selenium import webdriver\n",
    "from bs4 import BeautifulSoup\n",
    "import polars as pl\n",
    "import time\n",
    "import pandas as pd\n",
    "import numpy as np"
   ]
  },
  {
   "cell_type": "code",
   "execution_count": 25,
   "metadata": {},
   "outputs": [
    {
     "data": {
      "text/html": [
       "<div>\n",
       "<style scoped>\n",
       "    .dataframe tbody tr th:only-of-type {\n",
       "        vertical-align: middle;\n",
       "    }\n",
       "\n",
       "    .dataframe tbody tr th {\n",
       "        vertical-align: top;\n",
       "    }\n",
       "\n",
       "    .dataframe thead th {\n",
       "        text-align: right;\n",
       "    }\n",
       "</style>\n",
       "<table border=\"1\" class=\"dataframe\">\n",
       "  <thead>\n",
       "    <tr style=\"text-align: right;\">\n",
       "      <th></th>\n",
       "      <th>meeting_link</th>\n",
       "      <th>meeting_minutes_link</th>\n",
       "    </tr>\n",
       "  </thead>\n",
       "  <tbody>\n",
       "    <tr>\n",
       "      <th>0</th>\n",
       "      <td>/records-research/record-cfa-actions/2024/10/c...</td>\n",
       "      <td>/records-research/record-cfa-actions/2024/10/c...</td>\n",
       "    </tr>\n",
       "    <tr>\n",
       "      <th>1</th>\n",
       "      <td>/records-research/record-cfa-actions/2024/09/c...</td>\n",
       "      <td>/records-research/record-cfa-actions/2024/09/c...</td>\n",
       "    </tr>\n",
       "    <tr>\n",
       "      <th>2</th>\n",
       "      <td>/records-research/record-cfa-actions/2024/07/c...</td>\n",
       "      <td>/records-research/record-cfa-actions/2024/07/c...</td>\n",
       "    </tr>\n",
       "    <tr>\n",
       "      <th>3</th>\n",
       "      <td>/records-research/record-cfa-actions/2024/06/c...</td>\n",
       "      <td>/records-research/record-cfa-actions/2024/06/c...</td>\n",
       "    </tr>\n",
       "    <tr>\n",
       "      <th>4</th>\n",
       "      <td>/records-research/record-cfa-actions/2024/05/c...</td>\n",
       "      <td>/records-research/record-cfa-actions/2024/05/c...</td>\n",
       "    </tr>\n",
       "  </tbody>\n",
       "</table>\n",
       "</div>"
      ],
      "text/plain": [
       "                                        meeting_link  \\\n",
       "0  /records-research/record-cfa-actions/2024/10/c...   \n",
       "1  /records-research/record-cfa-actions/2024/09/c...   \n",
       "2  /records-research/record-cfa-actions/2024/07/c...   \n",
       "3  /records-research/record-cfa-actions/2024/06/c...   \n",
       "4  /records-research/record-cfa-actions/2024/05/c...   \n",
       "\n",
       "                                meeting_minutes_link  \n",
       "0  /records-research/record-cfa-actions/2024/10/c...  \n",
       "1  /records-research/record-cfa-actions/2024/09/c...  \n",
       "2  /records-research/record-cfa-actions/2024/07/c...  \n",
       "3  /records-research/record-cfa-actions/2024/06/c...  \n",
       "4  /records-research/record-cfa-actions/2024/05/c...  "
      ]
     },
     "execution_count": 25,
     "metadata": {},
     "output_type": "execute_result"
    }
   ],
   "source": [
    "df = pd.read_csv('../Data_Raw/meeting_info/cfa_meetings/all_minute_links.csv')\n",
    "df.rename(columns={'0':'meeting_link', '1':'meeting_minutes_link'}, inplace=True)\n",
    "df.head()"
   ]
  },
  {
   "cell_type": "code",
   "execution_count": 26,
   "metadata": {},
   "outputs": [],
   "source": [
    "def start_driver(url,add_cfa=False,options=None,current_driver=None):\n",
    "    \"\"\"\n",
    "    Initializes a Chrome WebDriver instance and navigates to the specified URL.\n",
    "    Args:\n",
    "        url (str): The URL to navigate to after starting the WebDriver.\n",
    "        add_cfa (bool, optional): If True, prepends \"https://www.cfa.gov\" to the URL. Defaults to False.\n",
    "        options (webdriver.ChromeOptions, optional): Chrome options to configure the WebDriver. Defaults to None.\n",
    "        current_driver (WebDriver, optional): An existing WebDriver instance to use instead of creating a new one. Defaults to None.\n",
    "    Returns:\n",
    "        WebDriver: An instance of the Chrome WebDriver.\n",
    "    \"\"\"\n",
    "    if add_cfa:\n",
    "        url = f\"https://www.cfa.gov{url}\"\n",
    "\n",
    "    if current_driver is not None:\n",
    "        current_driver.get(url)\n",
    "        return current_driver\n",
    "    else:\n",
    "        driver = webdriver.Chrome(options=options)\n",
    "        driver.get(url)\n",
    "        return driver\n",
    "    \n",
    "\n",
    "def get_soup(driver, parser='html.parser'):\n",
    "    \"\"\"\n",
    "    Returns BeautifulSoup object of the current page.\n",
    "    \"\"\"\n",
    "    return BeautifulSoup(driver.page_source, parser)"
   ]
  },
  {
   "cell_type": "code",
   "execution_count": 36,
   "metadata": {},
   "outputs": [],
   "source": [
    "driver = start_driver('https://www.cfa.gov')\n",
    "\n",
    "all_minutes = {}\n",
    "for i in range(len(df)):\n",
    "    minutes = df['meeting_minutes_link'][i]\n",
    "    start_driver(minutes,add_cfa=True,current_driver=driver)\n",
    "    soup = get_soup(driver)\n",
    "\n",
    "    all_minutes[df.loc[i,'meeting_link']] = soup.find(\n",
    "        'div', {'class':'l-page__content l-page__content--middle'}).get_text()\n"
   ]
  },
  {
   "cell_type": "code",
   "execution_count": 37,
   "metadata": {},
   "outputs": [],
   "source": [
    "import json\n",
    "\n",
    "# Convert the dictionary to JSON\n",
    "json_data = json.dumps(all_minutes)\n",
    "\n",
    "# Save the JSON data to a file\n",
    "with open(\"../Data_Raw/meeting_info/cfa_meetings/minutes.json\", \"w\") as f:\n",
    "    f.write(json_data)"
   ]
  }
 ],
 "metadata": {
  "kernelspec": {
   "display_name": "Python 3",
   "language": "python",
   "name": "python3"
  },
  "language_info": {
   "codemirror_mode": {
    "name": "ipython",
    "version": 3
   },
   "file_extension": ".py",
   "mimetype": "text/x-python",
   "name": "python",
   "nbconvert_exporter": "python",
   "pygments_lexer": "ipython3",
   "version": "3.9.13"
  }
 },
 "nbformat": 4,
 "nbformat_minor": 2
}
